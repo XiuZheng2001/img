{
  "nbformat": 4,
  "nbformat_minor": 0,
  "metadata": {
    "colab": {
      "name": "Read File.ipynb",
      "provenance": [],
      "collapsed_sections": [],
      "authorship_tag": "ABX9TyMKI1wNfHBFtDcCLRs0EX0O",
      "include_colab_link": true
    },
    "kernelspec": {
      "name": "python3",
      "display_name": "Python 3"
    },
    "language_info": {
      "name": "python"
    }
  },
  "cells": [
    {
      "cell_type": "markdown",
      "metadata": {
        "id": "view-in-github",
        "colab_type": "text"
      },
      "source": [
        "<a href=\"https://colab.research.google.com/github/XiuZheng2001/img/blob/main/Read_File.ipynb\" target=\"_parent\"><img src=\"https://colab.research.google.com/assets/colab-badge.svg\" alt=\"Open In Colab\"/></a>"
      ]
    },
    {
      "cell_type": "code",
      "metadata": {
        "id": "1lQSGS3aPn88"
      },
      "source": [
        "#read from url\n",
        "import urllib\n",
        "from PIL import Image\n",
        "from urllib import request\n",
        "import matplotlib.pyplot as plt\n",
        "\n",
        "#这个是选择Download后的url\n",
        "url='https://raw.githubusercontent.com/XiuZheng2001/img/main/cat.jpeg'\n",
        "filename='cat.jpge'\n",
        "try:urllib.URLopener().retrieve(url,filename)\n",
        "except:urllib.request.urlretrieve(url,filename)\n",
        "cat=Image.open(filename)\n",
        "plt.imshow(cat)"
      ],
      "execution_count": null,
      "outputs": []
    },
    {
      "cell_type": "code",
      "metadata": {
        "id": "e0cfx6IDQWhn"
      },
      "source": [
        "#read from drive\n",
        "#先连接到drive 然后把文件上传到drive内\n",
        "#Python Imaging Libaray supports for oppening, \n",
        "#manipulating, and saving many different iamge file format.\n",
        "from PIL import Image\n",
        "import torch\n",
        "from torchvision import transforms\n",
        "\n",
        "from google.colab import files\n",
        "from google.colab import drive\n",
        "drive.mount('/content/drive')\n",
        "\n",
        "path=''\n",
        "cat_img=Image.open(path)\n",
        "transform_224= transforms.Compose([\n",
        "    transforms.Resize(224), \n",
        "    transforms.CenterCrop((224,224)),\n",
        "    transforms.ToTensor(),\n",
        "    transforms.Normalize(mean=[0.485, 0.456, 0.406],\n",
        "                                std=[0.229, 0.224, 0.225])\n",
        "])\n",
        "\n",
        "\n",
        "cat_img_224=transform_224(cat_img)\n",
        "plt.imshow(cat_img)"
      ],
      "execution_count": null,
      "outputs": []
    },
    {
      "cell_type": "code",
      "metadata": {
        "id": "kAK0Gbw0RAl8"
      },
      "source": [
        "#将GitHub某个user/organization的repository内的batch内的所有的文件上传到colab文件中\n",
        "#npx 和 degit是github的方法\n",
        "!npx degit user_or_organization/repository/branch -f\n",
        "#然后不用连接到drive也可以使用"
      ],
      "execution_count": null,
      "outputs": []
    },
    {
      "cell_type": "code",
      "metadata": {
        "id": "B1WPCb0_y8kh"
      },
      "source": [
        "#直接从url下载文件到colab流中，无需导入url等其他库\n",
        "!wget https://raw.githubusercontent.com/XiuZheng2001/img/main/cat.jpeg\n",
        "#如果下载的是压缩包，还可以进行解压操作\n",
        "!unzip XXX.zip\n",
        "#解压后的文件将放在'content/XXX'内"
      ],
      "execution_count": null,
      "outputs": []
    }
  ]
}